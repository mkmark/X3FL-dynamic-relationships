{
 "cells": [
  {
   "cell_type": "markdown",
   "id": "5f228270",
   "metadata": {},
   "source": [
    "# X3FL dynamic relationships tool"
   ]
  },
  {
   "cell_type": "code",
   "execution_count": 1,
   "id": "a4337568",
   "metadata": {},
   "outputs": [],
   "source": [
    "# just run and ignore this block\n",
    "import numpy as np\n",
    "import pandas as pd\n",
    "all_races = [\"Teladi\", \"NMMC\", \"Goner\", \"TerraCorp\", \"Strong Arms\", \"Argon\", \"Boron\", \"Split\", \"Arteus\", \"OTAS\", \"Duke's\", \"Paranid\", \"Pirates\", \"Terran\", \"Yaki\"]\n",
    "# https://imgur.com/nqI0nbO, https://imgur.com/7BhbUMa, by blazenclaw, forum.egosoft.com\n",
    "try:\n",
    "    relationship_df = pd.read_csv(\"relationship.csv\", index_col=0)\n",
    "except:\n",
    "    relationship_df = pd.read_csv(\"https://raw.githubusercontent.com/mkmark/X3FL-dynamic-relationships/main/relationship.csv\", index_col=0)\n",
    "relationship_df = pd.DataFrame(relationship_df, columns=all_races)\n",
    "def get_X(races):\n",
    "    R = np.array(relationship_df.loc[races, races])\n",
    "    invR = np.linalg.inv(R) \n",
    "    N = np.ones(len(races))\n",
    "    X = invR@N\n",
    "    return X\n",
    "\n",
    "def get_X_df(races):\n",
    "    X = get_X(races)\n",
    "    return pd.DataFrame(list(X)+[sum(X)]+[len(races)/sum(X)], index=races+['sum', 'efficiency']).transpose()\n",
    "\n",
    "# https://stackoverflow.com/questions/26332412/python-recursive-function-to-display-all-subsets-of-given-set\n",
    "def subs(l):\n",
    "    if l == []:\n",
    "        return [[]]\n",
    "\n",
    "    x = subs(l[1:])\n",
    "\n",
    "    return x + [[l[0]] + y for y in x]\n",
    "\n",
    "def get_X_optimal_sub(races):\n",
    "    possible_solution_racess = []\n",
    "    possible_solution_Xs = []\n",
    "    possible_solution_workloads = []\n",
    "    for sub_races in subs(races):\n",
    "        X = get_X(sub_races)\n",
    "        R_all = np.array(relationship_df.loc[races, sub_races])\n",
    "        N_all = R_all@X\n",
    "        min_N_all = min(N_all)\n",
    "        if min_N_all>0:\n",
    "            if min_N_all<1:\n",
    "                X = [x*1/min_N_all for x in X]\n",
    "            possible_solution_racess += [sub_races]\n",
    "            possible_solution_Xs += [X]\n",
    "            possible_solution_workloads += [sum(X)]\n",
    "    if len(possible_solution_workloads)>0:\n",
    "        min_index = possible_solution_workloads.index(min(possible_solution_workloads))\n",
    "        optiaml_solution_races = possible_solution_racess[min_index]\n",
    "        optiaml_solution_X = possible_solution_Xs[min_index]\n",
    "        if min(optiaml_solution_X)>0:\n",
    "            return pd.DataFrame(list(optiaml_solution_X)+[sum(optiaml_solution_X)]+[len(optiaml_solution_races)/sum(optiaml_solution_X)], index=optiaml_solution_races+['sum', 'efficiency']).transpose()"
   ]
  },
  {
   "cell_type": "code",
   "execution_count": 2,
   "id": "ae0ba2f3",
   "metadata": {},
   "outputs": [],
   "source": [
    "# define target friend races as the following examples\n",
    "#commonwealth_races = [\"Teladi\", \"Argon\", \"Boron\", \"Split\", \"Paranid\"]\n",
    "#major_races = [\"Goner\", \"Teladi\", \"NMMC\", \"Argon\", \"Boron\", \"Split\", \"Paranid\", \"Terran\"]\n",
    "#all_but_yaki_races = [\"Goner\", \"Teladi\", \"NMMC\", \"Strong Arms\", \"TerraCorp\", \"Argon\", \"Boron\", \"Split\", \"Arteus\", \"OTAS\", \"Duke's\", \"Paranid\", \"Pirates\", \"Terran\"]\n",
    "#all_but_yaki_terran_races = [\"Goner\", \"Teladi\", \"NMMC\", \"Strong Arms\", \"TerraCorp\", \"Argon\", \"Boron\", \"Split\", \"Arteus\", \"OTAS\", \"Duke's\", \"Paranid\", \"Pirates\"]\n",
    "#all_but_yaki_terran_pirates_races = [\"Goner\", \"Teladi\", \"NMMC\", \"Strong Arms\", \"TerraCorp\", \"Argon\", \"Boron\", \"Split\", \"Arteus\", \"OTAS\", \"Duke's\", \"Paranid\"]\n",
    "#all_but_yaki_pirates_races = [\"Goner\", \"Teladi\", \"NMMC\", \"Strong Arms\", \"TerraCorp\", \"Argon\", \"Boron\", \"Split\", \"Arteus\", \"OTAS\", \"Duke's\", \"Paranid\", \"Terran\"]\n",
    "#all_but_terran_pirates_races = [\"Goner\", \"Teladi\", \"NMMC\", \"Strong Arms\", \"TerraCorp\", \"Argon\", \"Boron\", \"Split\", \"Arteus\", \"OTAS\", \"Duke's\", \"Paranid\", \"Yaki\"]"
   ]
  },
  {
   "cell_type": "code",
   "execution_count": 3,
   "id": "545cd671",
   "metadata": {},
   "outputs": [],
   "source": [
    "races = [\"Teladi\", \"NMMC\", \"Goner\", \"TerraCorp\", \"Strong Arms\", \"Argon\", \"Boron\", \"Split\", \"Arteus\", \"OTAS\", \"Duke's\", \"Paranid\"]"
   ]
  },
  {
   "cell_type": "code",
   "execution_count": 4,
   "id": "ffa8f132",
   "metadata": {},
   "outputs": [
    {
     "data": {
      "text/html": [
       "<div>\n",
       "<style scoped>\n",
       "    .dataframe tbody tr th:only-of-type {\n",
       "        vertical-align: middle;\n",
       "    }\n",
       "\n",
       "    .dataframe tbody tr th {\n",
       "        vertical-align: top;\n",
       "    }\n",
       "\n",
       "    .dataframe thead th {\n",
       "        text-align: right;\n",
       "    }\n",
       "</style>\n",
       "<table border=\"1\" class=\"dataframe\">\n",
       "  <thead>\n",
       "    <tr style=\"text-align: right;\">\n",
       "      <th></th>\n",
       "      <th>NMMC</th>\n",
       "      <th>Goner</th>\n",
       "      <th>TerraCorp</th>\n",
       "      <th>Strong Arms</th>\n",
       "      <th>Argon</th>\n",
       "      <th>Boron</th>\n",
       "      <th>Split</th>\n",
       "      <th>Arteus</th>\n",
       "      <th>OTAS</th>\n",
       "      <th>Duke's</th>\n",
       "      <th>Paranid</th>\n",
       "      <th>sum</th>\n",
       "      <th>efficiency</th>\n",
       "    </tr>\n",
       "  </thead>\n",
       "  <tbody>\n",
       "    <tr>\n",
       "      <th>0</th>\n",
       "      <td>7.780909</td>\n",
       "      <td>7.781132</td>\n",
       "      <td>13.390187</td>\n",
       "      <td>12.529926</td>\n",
       "      <td>10.355119</td>\n",
       "      <td>14.294295</td>\n",
       "      <td>17.964491</td>\n",
       "      <td>15.606104</td>\n",
       "      <td>18.489653</td>\n",
       "      <td>22.60303</td>\n",
       "      <td>21.615287</td>\n",
       "      <td>162.410133</td>\n",
       "      <td>0.06773</td>\n",
       "    </tr>\n",
       "  </tbody>\n",
       "</table>\n",
       "</div>"
      ],
      "text/plain": [
       "       NMMC     Goner  TerraCorp  Strong Arms      Argon      Boron  \\\n",
       "0  7.780909  7.781132  13.390187    12.529926  10.355119  14.294295   \n",
       "\n",
       "       Split     Arteus       OTAS    Duke's    Paranid         sum  \\\n",
       "0  17.964491  15.606104  18.489653  22.60303  21.615287  162.410133   \n",
       "\n",
       "   efficiency  \n",
       "0     0.06773  "
      ]
     },
     "execution_count": 4,
     "metadata": {},
     "output_type": "execute_result"
    }
   ],
   "source": [
    "# get result with get_X_optimal_sub(target_friend_races)\n",
    "get_X_optimal_sub(races)"
   ]
  },
  {
   "cell_type": "markdown",
   "id": "c6c8eb6d",
   "metadata": {},
   "source": [
    "The number for each race represents how much effort you will have to put with that race to get 1 notoriety point for each race assuming you're to be friend with all these selected race.\n",
    "\n",
    "The sum is the total workload of current tactic.\n",
    "\n",
    "The efficiency is the sum of actual gained notoriety points (equal the number of races selected) divided by total workload."
   ]
  },
  {
   "cell_type": "code",
   "execution_count": null,
   "id": "de0b062c",
   "metadata": {},
   "outputs": [],
   "source": []
  }
 ],
 "metadata": {
  "kernelspec": {
   "display_name": "Python 3",
   "language": "python",
   "name": "python3"
  },
  "language_info": {
   "codemirror_mode": {
    "name": "ipython",
    "version": 3
   },
   "file_extension": ".py",
   "mimetype": "text/x-python",
   "name": "python",
   "nbconvert_exporter": "python",
   "pygments_lexer": "ipython3",
   "version": "3.8.8"
  }
 },
 "nbformat": 4,
 "nbformat_minor": 5
}
