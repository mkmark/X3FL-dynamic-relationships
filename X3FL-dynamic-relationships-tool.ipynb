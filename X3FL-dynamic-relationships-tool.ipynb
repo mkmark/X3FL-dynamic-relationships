{
 "cells": [
  {
   "cell_type": "markdown",
   "id": "5f228270",
   "metadata": {},
   "source": [
    "# X3FL dynamic relationships tool"
   ]
  },
  {
   "cell_type": "code",
   "execution_count": 1,
   "id": "a4337568",
   "metadata": {},
   "outputs": [],
   "source": [
    "# ignore this block\n",
    "import numpy as np\n",
    "import pandas as pd\n",
    "all_races = [\"Goner\", \"Teladi\", \"NMMC\", \"Strong Arms\", \"TerraCorp\", \"Argon\", \"Boron\", \"Split\", \"Arteus\", \"OTAS\", \"Duke's\", \"Paranid\", \"Pirates\", \"Terran\", \"Yaki\"]\n",
    "# https://imgur.com/nqI0nbO, by blazenclaw, forum.egosoft.com\n",
    "relationship_df = pd.read_csv(\"relationship.csv\", index_col=0)\n",
    "relationship_df = pd.DataFrame(relationship_df, columns=all_races)\n",
    "def get_X(races):\n",
    "    R = np.array(relationship_df.loc[races, races])\n",
    "    invR = np.linalg.inv(R) \n",
    "    N = np.ones(len(races))\n",
    "    X = invR@N\n",
    "    return X\n",
    "\n",
    "def get_X_df(races):\n",
    "    X = get_X(races)\n",
    "    return pd.DataFrame(list(X)+[sum(X)]+[len(races)/sum(X)], index=races+['sum', 'efficiency']).transpose()"
   ]
  },
  {
   "cell_type": "code",
   "execution_count": 2,
   "id": "ae0ba2f3",
   "metadata": {},
   "outputs": [],
   "source": [
    "# define target friend races as the following examples\n",
    "#commonwealth_races = [\"Teladi\", \"Argon\", \"Boron\", \"Split\", \"Paranid\"]\n",
    "#major_races = [\"Goner\", \"Teladi\", \"NMMC\", \"Argon\", \"Boron\", \"Split\", \"Paranid\", \"Terran\"]\n",
    "#all_but_yaki_races = [\"Goner\", \"Teladi\", \"NMMC\", \"Strong Arms\", \"TerraCorp\", \"Argon\", \"Boron\", \"Split\", \"Arteus\", \"OTAS\", \"Duke's\", \"Paranid\", \"Pirates\", \"Terran\"]\n",
    "#all_but_yaki_terran_races = [\"Goner\", \"Teladi\", \"NMMC\", \"Strong Arms\", \"TerraCorp\", \"Argon\", \"Boron\", \"Split\", \"Arteus\", \"OTAS\", \"Duke's\", \"Paranid\", \"Pirates\"]\n",
    "#all_but_yaki_terran_pirates_races = [\"Goner\", \"Teladi\", \"NMMC\", \"Strong Arms\", \"TerraCorp\", \"Argon\", \"Boron\", \"Split\", \"Arteus\", \"OTAS\", \"Duke's\", \"Paranid\"]\n",
    "#all_but_yaki_pirates_races = [\"Goner\", \"Teladi\", \"NMMC\", \"Strong Arms\", \"TerraCorp\", \"Argon\", \"Boron\", \"Split\", \"Arteus\", \"OTAS\", \"Duke's\", \"Paranid\", \"Terran\"]\n",
    "#all_but_terran_pirates_races = [\"Goner\", \"Teladi\", \"NMMC\", \"Strong Arms\", \"TerraCorp\", \"Argon\", \"Boron\", \"Split\", \"Arteus\", \"OTAS\", \"Duke's\", \"Paranid\", \"Yaki\"]"
   ]
  },
  {
   "cell_type": "code",
   "execution_count": 3,
   "id": "545cd671",
   "metadata": {},
   "outputs": [],
   "source": [
    "races = [\"Goner\", \"Teladi\", \"NMMC\", \"Strong Arms\", \"TerraCorp\", \"Argon\", \"Boron\", \"Split\", \"Arteus\", \"OTAS\", \"Duke's\", \"Paranid\"]"
   ]
  },
  {
   "cell_type": "code",
   "execution_count": 4,
   "id": "ffa8f132",
   "metadata": {},
   "outputs": [
    {
     "data": {
      "text/html": [
       "<div>\n",
       "<style scoped>\n",
       "    .dataframe tbody tr th:only-of-type {\n",
       "        vertical-align: middle;\n",
       "    }\n",
       "\n",
       "    .dataframe tbody tr th {\n",
       "        vertical-align: top;\n",
       "    }\n",
       "\n",
       "    .dataframe thead th {\n",
       "        text-align: right;\n",
       "    }\n",
       "</style>\n",
       "<table border=\"1\" class=\"dataframe\">\n",
       "  <thead>\n",
       "    <tr style=\"text-align: right;\">\n",
       "      <th></th>\n",
       "      <th>Goner</th>\n",
       "      <th>Teladi</th>\n",
       "      <th>NMMC</th>\n",
       "      <th>Strong Arms</th>\n",
       "      <th>TerraCorp</th>\n",
       "      <th>Argon</th>\n",
       "      <th>Boron</th>\n",
       "      <th>Split</th>\n",
       "      <th>Arteus</th>\n",
       "      <th>OTAS</th>\n",
       "      <th>Duke's</th>\n",
       "      <th>Paranid</th>\n",
       "      <th>sum</th>\n",
       "      <th>efficiency</th>\n",
       "    </tr>\n",
       "  </thead>\n",
       "  <tbody>\n",
       "    <tr>\n",
       "      <th>0</th>\n",
       "      <td>0.219569</td>\n",
       "      <td>0.254951</td>\n",
       "      <td>4.966994</td>\n",
       "      <td>7.478574</td>\n",
       "      <td>7.592467</td>\n",
       "      <td>7.11746</td>\n",
       "      <td>8.491154</td>\n",
       "      <td>7.915631</td>\n",
       "      <td>7.876733</td>\n",
       "      <td>7.886442</td>\n",
       "      <td>13.350788</td>\n",
       "      <td>12.678057</td>\n",
       "      <td>85.828819</td>\n",
       "      <td>0.139813</td>\n",
       "    </tr>\n",
       "  </tbody>\n",
       "</table>\n",
       "</div>"
      ],
      "text/plain": [
       "      Goner    Teladi      NMMC  Strong Arms  TerraCorp    Argon     Boron  \\\n",
       "0  0.219569  0.254951  4.966994     7.478574   7.592467  7.11746  8.491154   \n",
       "\n",
       "      Split    Arteus      OTAS     Duke's    Paranid        sum  efficiency  \n",
       "0  7.915631  7.876733  7.886442  13.350788  12.678057  85.828819    0.139813  "
      ]
     },
     "execution_count": 4,
     "metadata": {},
     "output_type": "execute_result"
    }
   ],
   "source": [
    "# get result with get_X_df(target_friend_races)\n",
    "get_X_df(races)"
   ]
  },
  {
   "cell_type": "markdown",
   "id": "c6c8eb6d",
   "metadata": {},
   "source": [
    "The number for each race represents how much effort you will have to put with that race to get 1 notoriety point for each race assuming you're to be friend with all these selected race.\n",
    "\n",
    "The sum is the total workload of current tactic.\n",
    "\n",
    "The efficiency is the sum of actual gained notoriety points (equal the number of races selected) divided by total workload."
   ]
  },
  {
   "cell_type": "code",
   "execution_count": null,
   "id": "de0b062c",
   "metadata": {},
   "outputs": [],
   "source": []
  }
 ],
 "metadata": {
  "kernelspec": {
   "display_name": "Python 3",
   "language": "python",
   "name": "python3"
  },
  "language_info": {
   "codemirror_mode": {
    "name": "ipython",
    "version": 3
   },
   "file_extension": ".py",
   "mimetype": "text/x-python",
   "name": "python",
   "nbconvert_exporter": "python",
   "pygments_lexer": "ipython3",
   "version": "3.8.8"
  }
 },
 "nbformat": 4,
 "nbformat_minor": 5
}
